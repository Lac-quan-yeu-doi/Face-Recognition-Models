{
 "cells": [
  {
   "cell_type": "code",
   "execution_count": 1,
   "id": "c12c87d3",
   "metadata": {},
   "outputs": [
    {
     "name": "stderr",
     "output_type": "stream",
     "text": [
      "/home/phatvo/.conda/envs/anhiuem/lib/python3.12/site-packages/tqdm/auto.py:21: TqdmWarning: IProgress not found. Please update jupyter and ipywidgets. See https://ipywidgets.readthedocs.io/en/stable/user_install.html\n",
      "  from .autonotebook import tqdm as notebook_tqdm\n"
     ]
    },
    {
     "name": "stdout",
     "output_type": "stream",
     "text": [
      "Loading CASIAwebface dataset |████████████████████✗︎ (!) 490623/10572 [4641%] in 1.0s (474854.42/s) \n",
      "Using:  cuda\n"
     ]
    }
   ],
   "source": [
    "import torch\n",
    "from torch.utils.data import ConcatDataset\n",
    "from torchvision import transforms\n",
    "import os\n",
    "import numpy as np\n",
    "\n",
    "# Import your custom utilities\n",
    "from utils.dataset import LFWPairDataset, CASIAwebfaceDataset\n",
    "from utils.config import DATASET_PATH\n",
    "from utils.model_utils import tune_threshold, evaluate_lfw_10fold\n",
    "from utils.criterion import SphereFaceNet, CosFaceNet, ArcFaceNet, CurricularFaceNet\n",
    "\n",
    "# --- Define transforms ---\n",
    "test_transform = transforms.Compose([\n",
    "    transforms.ToTensor(),\n",
    "    transforms.Normalize(mean=[0.5, 0.5, 0.5], std=[0.5, 0.5, 0.5])\n",
    "])\n",
    "\n",
    "train_dataset = CASIAwebfaceDataset(\n",
    "    root_dir=f'{DATASET_PATH}/CASIA-webface',\n",
    "    transform=transforms.Compose([\n",
    "        transforms.Resize((112, 112)),\n",
    "        transforms.ToTensor(),\n",
    "        transforms.Normalize(mean=[0.485, 0.456, 0.406], std=[0.229, 0.224, 0.225])\n",
    "    ])\n",
    ")\n",
    "num_classes = train_dataset.num_of_identities\n",
    "device = \"cuda\" if torch.cuda.is_available() else \"cpu\"\n",
    "print(\"Using: \", device)\n",
    "\n",
    "dataset_path = \"/home/phatvo/callmePhineas/DACN/data_a_P/LFW\"\n",
    "\n",
    "# --- Dataset paths ---\n",
    "aligned_lfw_path = f'{dataset_path}'\n",
    "match_train_file = f'{dataset_path}/matchpairsDevTrain.csv'\n",
    "mismatch_train_file = f'{dataset_path}/mismatchpairsDevTrain.csv'\n",
    "match_test_file = f'{dataset_path}/matchpairsDevTest.csv'\n",
    "mismatch_test_file = f'{dataset_path}/mismatchpairsDevTest.csv'\n",
    "pairs_all_file = f'{dataset_path}/pairs.csv'\n",
    "\n",
    "# --- Combine DevTrain + DevTest for threshold tuning ---\n",
    "train_pairs_dataset_match = LFWPairDataset(\n",
    "    root_dir=aligned_lfw_path,\n",
    "    pairs_files=match_train_file,\n",
    "    transform=test_transform\n",
    ")\n",
    "train_pairs_dataset_mismatch = LFWPairDataset(\n",
    "    root_dir=aligned_lfw_path,\n",
    "    pairs_files=mismatch_train_file,\n",
    "    transform=test_transform\n",
    ")\n",
    "test_pairs_dataset_match = LFWPairDataset(\n",
    "    root_dir=aligned_lfw_path,\n",
    "    pairs_files=match_test_file,\n",
    "    transform=test_transform\n",
    ")\n",
    "test_pairs_dataset_mismatch = LFWPairDataset(\n",
    "    root_dir=aligned_lfw_path,\n",
    "    pairs_files=mismatch_test_file,\n",
    "    transform=test_transform\n",
    ")\n",
    "\n",
    "# Combine all pairs for threshold tuning\n",
    "combined_pairs_dataset = ConcatDataset([\n",
    "    train_pairs_dataset_match,\n",
    "    train_pairs_dataset_mismatch,\n",
    "    \n",
    "    test_pairs_dataset_match,\n",
    "    test_pairs_dataset_mismatch\n",
    "])"
   ]
  },
  {
   "cell_type": "code",
   "execution_count": 2,
   "id": "647e9018",
   "metadata": {},
   "outputs": [],
   "source": [
    "def tune_and_validate(\n",
    "    model,\n",
    "    batch_size=64,\n",
    "):\n",
    "    from contextlib import redirect_stdout\n",
    "    \n",
    "    log_file = \"./validation_log\"\n",
    "    with open(log_file, 'a') as f:\n",
    "        with redirect_stdout(f):\n",
    "            # --- Tune threshold ---\n",
    "            print(\"🔧 Tuning threshold on combined DevTrain + DevTest ...\")\n",
    "            best_threshold, best_accuracy, threshold_list, accuracy_list = tune_threshold(\n",
    "                model, combined_pairs_dataset, batch_size, device, thresholds=np.arange(0.0, 0.5, 0.002)\n",
    "            )\n",
    "            print(f\"✅ Best threshold: {best_threshold:.4f}, Combined accuracy: {best_accuracy:.2f}%\")\n",
    "\n",
    "            # --- Validate with 10-Fold LFW ---\n",
    "            print(\"📊 Running 10-Fold cross-validation ...\")\n",
    "            mean_acc, std_acc = evaluate_lfw_10fold(\n",
    "                model=model,\n",
    "                pairs_file=pairs_all_file,\n",
    "                batch_size=batch_size,\n",
    "                root_dir=aligned_lfw_path,\n",
    "                transform=test_transform,\n",
    "                device=device,\n",
    "                threshold=best_threshold\n",
    "            )\n",
    "\n",
    "            print(f\"🎯 LFW 10-Fold Accuracy: {mean_acc:.2f}% ± {std_acc:.2f}% (Threshold: {best_threshold:.4f})\")\n",
    "            return best_threshold, best_accuracy, mean_acc, std_acc"
   ]
  },
  {
   "cell_type": "markdown",
   "id": "161a631c",
   "metadata": {},
   "source": [
    "# SphereFace"
   ]
  },
  {
   "cell_type": "code",
   "execution_count": 3,
   "id": "7a38fde6",
   "metadata": {},
   "outputs": [],
   "source": [
    "# # --- Load model ---\n",
    "# model_weights_path = \"./models_evaluation/CosFace_min_loss.pth\"\n",
    "# print(f\"🔹 Loading SphereFace model from {model_weights_path}\")\n",
    "# model = SphereFaceNet(num_classes=num_classes).to(device)\n",
    "# state_dict = torch.load(model_weights_path, map_location=device)\n",
    "# model.load_state_dict(state_dict)\n",
    "# model.eval()\n",
    "\n",
    "# tune_and_validate(model=model)\n"
   ]
  },
  {
   "cell_type": "markdown",
   "id": "d4863a12",
   "metadata": {},
   "source": [
    "# CosFace"
   ]
  },
  {
   "cell_type": "code",
   "execution_count": 4,
   "id": "cf9a806c",
   "metadata": {},
   "outputs": [
    {
     "name": "stdout",
     "output_type": "stream",
     "text": [
      "🔹 Loading CosFace model from ./models_evaluation/CosFace_min_loss.pth\n",
      "Initialize CosFace with margin 0.35, scale 64.0\n"
     ]
    },
    {
     "name": "stderr",
     "output_type": "stream",
     "text": [
      "                                                                          \r"
     ]
    },
    {
     "data": {
      "text/plain": [
       "(0.39, 67.34375, 65.71666666666667, 1.6108141488769678)"
      ]
     },
     "execution_count": 4,
     "metadata": {},
     "output_type": "execute_result"
    }
   ],
   "source": [
    "# --- Load model ---\n",
    "model_weights_path = \"./models_evaluation/CosFace_min_loss.pth\"\n",
    "print(f\"🔹 Loading CosFace model from {model_weights_path}\")\n",
    "model = CosFaceNet(num_classes=num_classes).to(device)\n",
    "state_dict = torch.load(model_weights_path, map_location=device)\n",
    "model.load_state_dict(state_dict['model_state_dict'])\n",
    "model.eval()\n",
    "\n",
    "tune_and_validate(model=model)\n"
   ]
  },
  {
   "cell_type": "markdown",
   "id": "6f16a09f",
   "metadata": {},
   "source": [
    "# ArcFace"
   ]
  },
  {
   "cell_type": "code",
   "execution_count": 5,
   "id": "997917e1",
   "metadata": {},
   "outputs": [
    {
     "name": "stdout",
     "output_type": "stream",
     "text": [
      "🔹 Loading ArcFace model from ./models_evaluation/ArcFace_min_loss.pth\n"
     ]
    },
    {
     "name": "stderr",
     "output_type": "stream",
     "text": [
      "Evaluating (Verification):   0%|          | 0/50 [00:00<?, ?it/s]"
     ]
    },
    {
     "name": "stdout",
     "output_type": "stream",
     "text": [
      "Initialize ArcFace with margin 0.35, scale 64.0\n"
     ]
    },
    {
     "name": "stderr",
     "output_type": "stream",
     "text": [
      "                                                                          \r"
     ]
    },
    {
     "data": {
      "text/plain": [
       "(0.304, 76.375, 77.35000000000001, 1.379311422413371)"
      ]
     },
     "execution_count": 5,
     "metadata": {},
     "output_type": "execute_result"
    }
   ],
   "source": [
    "# --- Load model ---\n",
    "model_weights_path = \"./models_evaluation/ArcFace_min_loss.pth\"\n",
    "print(f\"🔹 Loading ArcFace model from {model_weights_path}\")\n",
    "model = ArcFaceNet(num_classes=num_classes).to(device)\n",
    "state_dict = torch.load(model_weights_path, map_location=device)\n",
    "model.load_state_dict(state_dict['model_state_dict'])\n",
    "model.eval()\n",
    "\n",
    "tune_and_validate(model=model)"
   ]
  },
  {
   "cell_type": "markdown",
   "id": "5a313906",
   "metadata": {},
   "source": [
    "# CurricularFace"
   ]
  },
  {
   "cell_type": "code",
   "execution_count": 6,
   "id": "5a0c0e32",
   "metadata": {},
   "outputs": [
    {
     "name": "stdout",
     "output_type": "stream",
     "text": [
      "🔹 Loading CurricularFace model from ./models_evaluation/CurricularFace_min_loss.pth\n",
      "Initialize CurricularFace with margin 0.5, scale 64.0, momentum 0.01\n"
     ]
    },
    {
     "name": "stderr",
     "output_type": "stream",
     "text": [
      "                                                                          \r"
     ]
    },
    {
     "data": {
      "text/plain": [
       "(0.43, 71.9375, 71.71666666666667, 2.135740829054146)"
      ]
     },
     "execution_count": 6,
     "metadata": {},
     "output_type": "execute_result"
    }
   ],
   "source": [
    "# --- Load model ---\n",
    "model_weights_path = \"./models_evaluation/CurricularFace_min_loss.pth\"\n",
    "print(f\"🔹 Loading CurricularFace model from {model_weights_path}\")\n",
    "model = CurricularFaceNet(num_classes=num_classes).to(device)\n",
    "state_dict = torch.load(model_weights_path, map_location=device)\n",
    "model.load_state_dict(state_dict['model_state_dict'])\n",
    "model.eval()\n",
    "\n",
    "tune_and_validate(model=model)"
   ]
  }
 ],
 "metadata": {
  "kernelspec": {
   "display_name": "anhiuem",
   "language": "python",
   "name": "python3"
  },
  "language_info": {
   "codemirror_mode": {
    "name": "ipython",
    "version": 3
   },
   "file_extension": ".py",
   "mimetype": "text/x-python",
   "name": "python",
   "nbconvert_exporter": "python",
   "pygments_lexer": "ipython3",
   "version": "3.12.9"
  }
 },
 "nbformat": 4,
 "nbformat_minor": 5
}
